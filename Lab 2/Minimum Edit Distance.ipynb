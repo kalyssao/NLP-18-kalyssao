{
 "cells": [
  {
   "cell_type": "code",
   "execution_count": null,
   "metadata": {},
   "outputs": [],
   "source": [
    "def m_e_d(source, target):\n",
    "    if(source == \"\"):\n",
    "        return len(target)\n",
    "        \n",
    "    if(target == \"\"):\n",
    "        return len(source)\n",
    "        \n",
    "    if(source[-1] == target[-1]):\n",
    "        cost = 0   \n",
    "    else:\n",
    "        cost = 2\n",
    "            \n",
    "    med = min([m_e_d(source[:-1], target) + 1,\n",
    "               m_e_d(source, target[:-1]) + 1, \n",
    "               m_e_d(source[:-1], target[:-1]) + cost])\n",
    "    \n",
    "    return med"
   ]
  },
  {
   "cell_type": "code",
   "execution_count": null,
   "metadata": {},
   "outputs": [],
   "source": [
    "m_e_d('','ii')"
   ]
  },
  {
   "cell_type": "code",
   "execution_count": null,
   "metadata": {},
   "outputs": [],
   "source": [
    "print(\"Minimum edit distance between intention and execution is\" m_e_d(\"intention\",\"execution\"))"
   ]
  }
 ],
 "metadata": {
  "kernelspec": {
   "display_name": "Python 3",
   "language": "python",
   "name": "python3"
  },
  "language_info": {
   "codemirror_mode": {
    "name": "ipython",
    "version": 3
   },
   "file_extension": ".py",
   "mimetype": "text/x-python",
   "name": "python",
   "nbconvert_exporter": "python",
   "pygments_lexer": "ipython3",
   "version": "3.7.0"
  }
 },
 "nbformat": 4,
 "nbformat_minor": 2
}
