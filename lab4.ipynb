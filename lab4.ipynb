{
 "cells": [
  {
   "cell_type": "code",
   "execution_count": 1,
   "metadata": {},
   "outputs": [],
   "source": [
    "# Text normalisation\n",
    "import re\n",
    "from stop_words import get_stop_words\n",
    "\n",
    "# Uses an existing list of stopwords to trim the test vocabulary\n",
    "def remove_stopwords(words):\n",
    "    stop_words = list(get_stop_words('en'))\n",
    "    new_words = ' '.join([word for word in words.split() if word not in stop_words])\n",
    "\n",
    "    return new_words\n",
    "\n",
    "def rename(astring):\n",
    "    new_name = astring[:-4] + \"_normalised.txt\"\n",
    "    return new_name\n",
    "\n",
    "# Normalises by removing capital letters, punctuation and stopwords\n",
    "# and writes normalised text to a new file to be used as input for nb/lr\n",
    "def normalise(textfile):\n",
    "    newfilename = rename(textfile)\n",
    "    outfile = open(newfilename, \"w+\")\n",
    "    with open(textfile, \"r\") as file_to_normalise:\n",
    "        for line in file_to_normalise:\n",
    "            \n",
    "            # Remove capital letters and punctuation\n",
    "            line = line.lower()\n",
    "            line = re.sub(r'[^\\w\\s]','',line)\n",
    "            line = remove_stopwords(line)\n",
    "            \n",
    "\n",
    "            outfile.write(line)\n",
    "            outfile.write('\\n')\n",
    "\n",
    "    file_to_normalise.close()\n",
    "    outfile.close()\n"
   ]
  },
  {
   "cell_type": "code",
   "execution_count": 2,
   "metadata": {},
   "outputs": [],
   "source": [
    "# Initialising a dataframe in pandas containing the training vocabulary\n",
    "import pandas as pd\n",
    "\n",
    "df = pd.DataFrame()\n",
    "filelist = ['amazon_cells_labelled.txt','yelp_labelled.txt','imdb_labelled.txt']\n",
    "\n",
    "for item in filelist:\n",
    "    frame = pd.read_csv(item, delimiter='\\t',header=None, names=['sentiment','rating'])\n",
    "    df = df.append(frame)"
   ]
  },
  {
   "cell_type": "code",
   "execution_count": 3,
   "metadata": {},
   "outputs": [],
   "source": [
    "# Defining x and y for use with count vectorizer\n",
    "X = df.sentiment\n",
    "y = df.rating"
   ]
  },
  {
   "cell_type": "code",
   "execution_count": 4,
   "metadata": {},
   "outputs": [],
   "source": [
    "# Importing the function for splitting data into test & train\n",
    "from sklearn.model_selection import train_test_split\n",
    "\n",
    "# Splitting the data into 80% training, 20% for testing\n",
    "X_train, X_test, y_train, y_test = train_test_split(X, y, test_size=0.2, random_state = 1)\n"
   ]
  },
  {
   "cell_type": "code",
   "execution_count": 5,
   "metadata": {},
   "outputs": [],
   "source": [
    "# Instantiating and fitting the unnormalised and normalised\n",
    "# count vectorizers, which tokenizes the entered data to build a vocabulary\n",
    "from sklearn.feature_extraction.text import CountVectorizer\n",
    "vect = CountVectorizer(lowercase=False)\n",
    "vect_norm = CountVectorizer()\n",
    "\n",
    "# Learning with the training data (normalised and unnormalised)\n",
    "vect.fit(X_train)\n",
    "vect_norm.fit(X_train)\n",
    "\n",
    "X_train_dtm = vect.transform(X_train)\n",
    "X_test_dtm = vect.transform(X_test)"
   ]
  },
  {
   "cell_type": "code",
   "execution_count": 6,
   "metadata": {},
   "outputs": [],
   "source": [
    "# Importing metrics functionality, which will be used soon\n",
    "from sklearn import metrics"
   ]
  },
  {
   "cell_type": "code",
   "execution_count": 7,
   "metadata": {},
   "outputs": [],
   "source": [
    "# Importing the logistic regression function\n",
    "from sklearn.linear_model import LogisticRegression\n",
    "\n",
    "# Instantiate the classifier\n",
    "log_reg = LogisticRegression(solver='lbfgs')\n",
    "\n",
    "# The model will learn the relationship between the input \n",
    "# and the observation when fit is called on the data\n",
    "log_reg.fit(X_train_dtm, y_train)\n",
    "\n",
    "# Testing the model using the remaining test data\n",
    "lr_predicted = log_reg.predict(X_test_dtm)"
   ]
  },
  {
   "cell_type": "code",
   "execution_count": 8,
   "metadata": {},
   "outputs": [],
   "source": [
    "# Importing the naive bayes function\n",
    "from sklearn.naive_bayes import MultinomialNB\n",
    "\n",
    "# Instantiating the gaussian naive bayes classifier\n",
    "naiveBayes = MultinomialNB()\n",
    "\n",
    "# Training the model\n",
    "naiveBayes.fit(X_train_dtm, y_train)\n",
    "\n",
    "# Testing the model\n",
    "nb_predicted = naiveBayes.predict(X_test_dtm)"
   ]
  },
  {
   "cell_type": "code",
   "execution_count": 9,
   "metadata": {},
   "outputs": [],
   "source": [
    "# General Overview of lr and nb\n",
    "# For each line in a text file, append to a list and convert \n",
    "# the list to a matrix. Then, pass the matrix as an input to the trained model.\n",
    "# Write the result to an output textfile whose name changes\n",
    "# depending on the version specified and move to the next sentiment"
   ]
  },
  {
   "cell_type": "code",
   "execution_count": 10,
   "metadata": {},
   "outputs": [],
   "source": [
    "def lr(textfile, version):\n",
    "    test_list = []\n",
    "    infile = open(textfile, \"r\")\n",
    "    \n",
    "    outfile = open(\"results-lr-u.txt\",\"w\") if version == \"u\" else open(\"results-lr-n.txt\",\"w\")\n",
    "    \n",
    "    for sentiment in infile:\n",
    "        test_list.append(sentiment)\n",
    "\n",
    "        if(version == \"n\"):\n",
    "            test_list_dtm = vect_norm.transform(test_list)\n",
    "        \n",
    "        test_list_dtm = vect.transform(test_list)\n",
    "        \n",
    "        result = log_reg.predict(test_list_dtm)\n",
    "        outfile.write(str(result[0]))\n",
    "        outfile.write('\\n')\n",
    "        \n",
    "        test_list = []\n",
    "\n",
    "    infile.close()\n",
    "    outfile.close()"
   ]
  },
  {
   "cell_type": "code",
   "execution_count": 11,
   "metadata": {},
   "outputs": [],
   "source": [
    "def nb(textfile, version):\n",
    "    test_list = []\n",
    "    infile = open(textfile, \"r\")\n",
    "    \n",
    "    outfile = open(\"results-nb-u.txt\",\"w\") if version == \"u\" else open(\"results-nb-n.txt\",\"w\")\n",
    "    for sentiment in infile:\n",
    "        test_list.append(sentiment)\n",
    "\n",
    "        if(version == \"n\"):\n",
    "            test_list_dtm = vect_norm.transform(test_list)\n",
    "        \n",
    "        test_list_dtm = vect.transform(test_list)\n",
    "        \n",
    "        result = naiveBayes.predict(test_list_dtm)\n",
    "        outfile.write(str(result[0]))\n",
    "        outfile.write('\\n')\n",
    "        \n",
    "        test_list = []\n",
    "    infile.close()\n",
    "    outfile.close()"
   ]
  },
  {
   "cell_type": "code",
   "execution_count": 12,
   "metadata": {},
   "outputs": [],
   "source": [
    "# System arguments check\n",
    "import sys"
   ]
  },
  {
   "cell_type": "code",
   "execution_count": 13,
   "metadata": {},
   "outputs": [
    {
     "name": "stdout",
     "output_type": "stream",
     "text": [
      "Check that you have all your aguments\n"
     ]
    }
   ],
   "source": [
    "# If required length, check if NB or LR\n",
    "# then, check if normalised or unnormalised\n",
    "# If normalised, call normalise function on text file and pass result to \n",
    "# the specified model name of text file specified in commandline\n",
    "\n",
    "if(len(sys.argv) != 4):\n",
    "    print(\"Check that you have all your aguments\")\n",
    "\n",
    "else:\n",
    "    inter = str(sys.argv[3])\n",
    "    normalised_file = inter[:-4] + \"_normalised.txt\"\n",
    "\n",
    "    if(sys.argv[1] == \"nb\"):\n",
    "        if(sys.argv[2] == \"u\"):\n",
    "            print(\"Unnormalised naive bayes\")\n",
    "            nb(sys.argv[3],\"u\")\n",
    "            \n",
    "        else:\n",
    "            print(\"Normalised naive bayes\")\n",
    "            normalise(sys.argv[3])\n",
    "            \n",
    "            nb(normalised_file, \"n\")\n",
    "    \n",
    "    else:\n",
    "        if(sys.argv[2] == \"u\"):\n",
    "            print(\"Unnormalised logistic regression\")\n",
    "            lr(sys.argv[3],\"u\")\n",
    "        \n",
    "        else:\n",
    "            print(\"Normalised logistic regression\")\n",
    "            normalise(sys.argv[3])\n",
    "            lr(sys.argv[3],\"n\")"
   ]
  }
 ],
 "metadata": {
  "kernelspec": {
   "display_name": "Python 3",
   "language": "python",
   "name": "python3"
  },
  "language_info": {
   "codemirror_mode": {
    "name": "ipython",
    "version": 3
   },
   "file_extension": ".py",
   "mimetype": "text/x-python",
   "name": "python",
   "nbconvert_exporter": "python",
   "pygments_lexer": "ipython3",
   "version": "3.7.1"
  }
 },
 "nbformat": 4,
 "nbformat_minor": 1
}
